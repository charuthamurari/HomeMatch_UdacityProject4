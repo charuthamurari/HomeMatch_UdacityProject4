{
 "cells": [
  {
   "cell_type": "markdown",
   "id": "a108af04",
   "metadata": {},
   "source": [
    "This is a starter notebook for the project, you'll have to import the libraries you'll need, you can find a list of the ones available in this workspace in the requirements.txt file in this workspace. "
   ]
  },
  {
   "cell_type": "code",
   "execution_count": 1,
   "id": "6554fd4c",
   "metadata": {},
   "outputs": [],
   "source": [
    "import os\n",
    "\n",
    "os.environ[\"OPENAI_API_KEY\"] = \"voc-10428826251266774227972687a76f7c7b7b8.94443740\"\n",
    "os.environ[\"OPENAI_API_BASE\"] = \"https://openai.vocareum.com/v1\"\n",
    "\n",
    "\n",
    "from langchain.llms import OpenAI\n"
   ]
  },
  {
   "cell_type": "markdown",
   "id": "cda373de",
   "metadata": {},
   "source": [
    "# Step 1: Setting Up the Python Application\n",
    "Initialize a Python Project: Create a new Python project, setting up a virtual environment and installing necessary packages like LangChain, a suitable LLM library (e.g., OpenAI's GPT), and a vector database package compatible with Python (e.g., ChromaDB or LanceDB)."
   ]
  },
  {
   "cell_type": "code",
   "execution_count": 2,
   "id": "32fcd2d2",
   "metadata": {},
   "outputs": [
    {
     "name": "stderr",
     "output_type": "stream",
     "text": [
      "/opt/conda/lib/python3.10/site-packages/langchain/llms/openai.py:202: UserWarning: You are trying to use a chat model. This way of initializing it is no longer supported. Instead, please use: `from langchain.chat_models import ChatOpenAI`\n",
      "  warnings.warn(\n",
      "/opt/conda/lib/python3.10/site-packages/langchain/llms/openai.py:790: UserWarning: You are trying to use a chat model. This way of initializing it is no longer supported. Instead, please use: `from langchain.chat_models import ChatOpenAI`\n",
      "  warnings.warn(\n"
     ]
    }
   ],
   "source": [
    "from langchain.llms import OpenAI\n",
    "model_name = 'gpt-3.5-turbo'\n",
    "llm = OpenAI(model_name=model_name, temperature=0)"
   ]
  },
  {
   "cell_type": "markdown",
   "id": "c6922598",
   "metadata": {},
   "source": [
    "# Step 2: Generating Real Estate Listings\n",
    "Generate real estate listings using a Large Language Model. Generate at least 10 listings This can involve creating prompts for the LLM to produce descriptions of various properties."
   ]
  },
  {
   "cell_type": "code",
   "execution_count": 3,
   "id": "fb19bd3c",
   "metadata": {},
   "outputs": [],
   "source": [
    "INSTRUCTION = \"Generate 13 real estate listings.\"\n",
    "Listing1 = \\\n",
    "\"\"\"\n",
    "Neighborhood: Green Oaks\n",
    "Price: $800,000\n",
    "Bedrooms: 3\n",
    "Bathrooms: 2\n",
    "House Size: 2,000 sqft\n",
    "\n",
    "Description: Welcome to this eco-friendly oasis nestled in the heart of Green Oaks. This charming 3-bedroom, 2-bathroom home boasts energy-efficient features such as solar panels and a well-insulated structure. Natural light floods the living spaces, highlighting the beautiful hardwood floors and eco-conscious finishes. The open-concept kitchen and dining area lead to a spacious backyard with a vegetable garden, perfect for the eco-conscious family. Embrace sustainable living without compromising on style in this Green Oaks gem.\n",
    "\n",
    "Neighborhood Description: Green Oaks is a close-knit, environmentally-conscious community with access to organic grocery stores, community gardens, and bike paths. Take a stroll through the nearby Green Oaks Park or grab a cup of coffee at the cozy Green Bean Cafe. With easy access to public transportation and bike lanes, commuting is a breeze.\n",
    "\"\"\""
   ]
  },
  {
   "cell_type": "code",
   "execution_count": 4,
   "id": "282097fe",
   "metadata": {},
   "outputs": [],
   "source": [
    "from langchain.output_parsers import PydanticOutputParser\n",
    "from pydantic import BaseModel, Field, NonNegativeInt\n",
    "from typing import List\n",
    "\n",
    "class RealEstateListing(BaseModel):\n",
    "    neighborhood: str = Field(description=\"Name of the neighborhood\")\n",
    "    price: NonNegativeInt = Field(description=\"Price of the property in USD\")\n",
    "    bedrooms: NonNegativeInt = Field(description=\"Number of bedrooms in the property\")\n",
    "    bathrooms: NonNegativeInt = Field(description=\"Number of bathrooms in the property\")\n",
    "    house_size: NonNegativeInt = Field(description=\"Size of the property in square feet\")\n",
    "    description: str = Field(description=\"Description of the property.\")   \n",
    "    neighborhood_description: str = Field(description=\"Description of the neighborhood.\")  \n",
    "\n",
    "class ListingCollection(BaseModel):\n",
    "    listing: List[RealEstateListing] = Field(description=\"List of available real estate\")\n",
    "        \n",
    "parser = PydanticOutputParser(pydantic_object=ListingCollection)"
   ]
  },
  {
   "cell_type": "markdown",
   "id": "e4e79329",
   "metadata": {},
   "source": [
    "Prompt Creation"
   ]
  },
  {
   "cell_type": "code",
   "execution_count": 5,
   "id": "bf1d205f",
   "metadata": {},
   "outputs": [
    {
     "name": "stdout",
     "output_type": "stream",
     "text": [
      "Generate 13 real estate listings.\n",
      "\n",
      "Neighborhood: Green Oaks\n",
      "Price: $800,000\n",
      "Bedrooms: 3\n",
      "Bathrooms: 2\n",
      "House Size: 2,000 sqft\n",
      "\n",
      "Description: Welcome to this eco-friendly oasis nestled in the heart of Green Oaks. This charming 3-bedroom, 2-bathroom home boasts energy-efficient features such as solar panels and a well-insulated structure. Natural light floods the living spaces, highlighting the beautiful hardwood floors and eco-conscious finishes. The open-concept kitchen and dining area lead to a spacious backyard with a vegetable garden, perfect for the eco-conscious family. Embrace sustainable living without compromising on style in this Green Oaks gem.\n",
      "\n",
      "Neighborhood Description: Green Oaks is a close-knit, environmentally-conscious community with access to organic grocery stores, community gardens, and bike paths. Take a stroll through the nearby Green Oaks Park or grab a cup of coffee at the cozy Green Bean Cafe. With easy access to public transportation and bike lanes, commuting is a breeze.\n",
      "\n",
      "The output should be formatted as a JSON instance that conforms to the JSON schema below.\n",
      "\n",
      "As an example, for the schema {\"properties\": {\"foo\": {\"title\": \"Foo\", \"description\": \"a list of strings\", \"type\": \"array\", \"items\": {\"type\": \"string\"}}}, \"required\": [\"foo\"]}\n",
      "the object {\"foo\": [\"bar\", \"baz\"]} is a well-formatted instance of the schema. The object {\"properties\": {\"foo\": [\"bar\", \"baz\"]}} is not well-formatted.\n",
      "\n",
      "Here is the output schema:\n",
      "```\n",
      "{\"properties\": {\"listing\": {\"title\": \"Listing\", \"description\": \"List of available real estate\", \"type\": \"array\", \"items\": {\"$ref\": \"#/definitions/RealEstateListing\"}}}, \"required\": [\"listing\"], \"definitions\": {\"RealEstateListing\": {\"title\": \"RealEstateListing\", \"type\": \"object\", \"properties\": {\"neighborhood\": {\"title\": \"Neighborhood\", \"description\": \"Name of the neighborhood\", \"type\": \"string\"}, \"price\": {\"title\": \"Price\", \"description\": \"Price of the property in USD\", \"minimum\": 0, \"type\": \"integer\"}, \"bedrooms\": {\"title\": \"Bedrooms\", \"description\": \"Number of bedrooms in the property\", \"minimum\": 0, \"type\": \"integer\"}, \"bathrooms\": {\"title\": \"Bathrooms\", \"description\": \"Number of bathrooms in the property\", \"minimum\": 0, \"type\": \"integer\"}, \"house_size\": {\"title\": \"House Size\", \"description\": \"Size of the property in square feet\", \"minimum\": 0, \"type\": \"integer\"}, \"description\": {\"title\": \"Description\", \"description\": \"Description of the property.\", \"type\": \"string\"}, \"neighborhood_description\": {\"title\": \"Neighborhood Description\", \"description\": \"Description of the neighborhood.\", \"type\": \"string\"}}, \"required\": [\"neighborhood\", \"price\", \"bedrooms\", \"bathrooms\", \"house_size\", \"description\", \"neighborhood_description\"]}}}\n",
      "```\n",
      "\n"
     ]
    }
   ],
   "source": [
    "from langchain.prompts import PromptTemplate\n",
    "\n",
    "prompt = PromptTemplate(\n",
    "    template=\"{instruction}\\n{sample}\\n{format_instructions}\\n\",\n",
    "    input_variables=[\"instruction\", \"sample\"],\n",
    "    partial_variables={\"format_instructions\": parser.get_format_instructions},\n",
    ")\n",
    "query = prompt.format(instruction = INSTRUCTION, sample = Listing1)\n",
    "print(query)"
   ]
  },
  {
   "cell_type": "code",
   "execution_count": 6,
   "id": "91fbf767",
   "metadata": {},
   "outputs": [
    {
     "data": {
      "text/plain": [
       "'{\\n  \"listing\": [\\n    {\\n      \"neighborhood\": \"Green Oaks\",\\n      \"price\": 800000,\\n      \"bedrooms\": 3,\\n      \"bathrooms\": 2,\\n      \"house_size\": 2000,\\n      \"description\": \"Welcome to this eco-friendly oasis nestled in the heart of Green Oaks. This charming 3-bedroom, 2-bathroom home boasts energy-efficient features such as solar panels and a well-insulated structure. Natural light floods the living spaces, highlighting the beautiful hardwood floors and eco-conscious finishes. The open-concept kitchen and dining area lead to a spacious backyard with a vegetable garden, perfect for the eco-conscious family. Embrace sustainable living without compromising on style in this Green Oaks gem.\",\\n      \"neighborhood_description\": \"Green Oaks is a close-knit, environmentally-conscious community with access to organic grocery stores, community gardens, and bike paths. Take a stroll through the nearby Green Oaks Park or grab a cup of coffee at the cozy Green Bean Cafe. With easy access to public transportation and bike lanes, commuting is a breeze.\"\\n    },\\n    {\\n      \"neighborhood\": \"Sunnyvale\",\\n      \"price\": 950000,\\n      \"bedrooms\": 4,\\n      \"bathrooms\": 3,\\n      \"house_size\": 2500,\\n      \"description\": \"Located in the desirable neighborhood of Sunnyvale, this 4-bedroom, 3-bathroom home offers spacious living areas and a beautifully landscaped backyard. The updated kitchen features stainless steel appliances and granite countertops, perfect for entertaining guests. Enjoy the California sunshine in the private backyard oasis with a sparkling pool and outdoor kitchen. This home is perfect for families looking for a blend of comfort and luxury.\",\\n      \"neighborhood_description\": \"Sunnyvale is known for its top-rated schools, vibrant downtown area, and easy access to major tech companies. Residents can enjoy hiking trails at nearby parks or explore the local farmers\\' market for fresh produce and artisan goods.\"\\n    },\\n    {\\n      \"neighborhood\": \"Lakeview\",\\n      \"price\": 700000,\\n      \"bedrooms\": 2,\\n      \"bathrooms\": 1,\\n      \"house_size\": 1500,\\n      \"description\": \"Welcome to this charming bungalow in the heart of Lakeview. This 2-bedroom, 1-bathroom home features a cozy living room with a fireplace, perfect for relaxing on chilly evenings. The updated kitchen boasts stainless steel appliances and a breakfast nook overlooking the landscaped backyard. Enjoy the peaceful neighborhood from the front porch swing or host a barbecue in the spacious backyard. This home is a true gem in Lakeview.\",\\n      \"neighborhood_description\": \"Lakeview is a family-friendly neighborhood with tree-lined streets, local cafes, and boutique shops. Residents can enjoy picnics at the nearby park or take a leisurely bike ride along the scenic lakefront trail.\"\\n    },\\n    {\\n      \"neighborhood\": \"Downtown\",\\n      \"price\": 1200000,\\n      \"bedrooms\": 3,\\n      \"bathrooms\": 2,\\n      \"house_size\": 1800,\\n      \"description\": \"Luxury living awaits in this modern condo in the heart of Downtown. This 3-bedroom, 2-bathroom unit features floor-to-ceiling windows with stunning city views. The gourmet kitchen is equipped with high-end appliances and sleek finishes. Relax in the spa-like master suite with a soaking tub and walk-in closet. Enjoy the convenience of living in the vibrant Downtown area with access to top restaurants, shopping, and entertainment.\",\\n      \"neighborhood_description\": \"Downtown is a bustling urban neighborhood with a mix of historic architecture and modern skyscrapers. Residents can explore art galleries, theaters, and cultural attractions within walking distance. With easy access to public transportation, commuting to work or exploring the city is a breeze.\"\\n    },\\n    {\\n      \"neighborhood\": \"Hillside\",\\n      \"price\": 850000,\\n      \"bedrooms\": 4,\\n      \"bathrooms\": 3,\\n      \"house_size\": 2200,\\n      \"description\": \"Perched on a hillside with panoramic views, this 4-bedroom, 3-bathroom home offers a peaceful retreat from the city. The spacious living room features a cozy fireplace and vaulted ceilings, perfect for relaxing with family and friends. The gourmet kitchen is a chef\\'s dream with high-end appliances and granite countertops. Step outside to the expansive deck to enjoy the sunset views or host a barbecue in the landscaped backyard. This home is a true sanctuary in Hillside.\",\\n      \"neighborhood_description\": \"Hillside is a quiet residential neighborhood with winding streets and lush greenery. Residents can enjoy hiking trails in the nearby hills or relax at the local country club. With easy access to freeways, shopping centers, and top-rated schools, Hillside offers the perfect balance of tranquility and convenience.\"\\n    },\\n    {\\n      \"neighborhood\": \"Waterfront\",\\n      \"price\": 1600000,\\n      \"bedrooms\": 5,\\n      \"bathrooms\": 4,\\n      \"house_size\": 3500,\\n      \"description\": \"Experience waterfront living at its finest in this stunning 5-bedroom, 4-bathroom home. The open-concept floor plan features a gourmet kitchen, formal dining room, and spacious living area with panoramic views of the water. The luxurious master suite boasts a private balcony, walk-in closet, and spa-like bathroom. Step outside to the waterfront patio to enjoy the sea breeze or take a dip in the infinity pool. This home is a true oasis in Waterfront.\",\\n      \"neighborhood_description\": \"Waterfront is a prestigious neighborhood with exclusive waterfront properties and private marinas. Residents can enjoy boating, fishing, and water sports right in their backyard. With upscale dining options, boutique shops, and yacht clubs nearby, Waterfront offers a luxurious coastal lifestyle.\"\\n    },\\n    {\\n      \"neighborhood\": \"Mountain View\",\\n      \"price\": 1100000,\\n      \"bedrooms\": 4,\\n      \"bathrooms\": 3,\\n      \"house_size\": 2400,\\n      \"description\": \"Nestled in the scenic hills of Mountain View, this 4-bedroom, 3-bathroom home offers breathtaking views and modern amenities. The open-concept living area features a gourmet kitchen with high-end appliances and a cozy fireplace. The spacious master suite boasts a private balcony and spa-like bathroom with a soaking tub. Step outside to the landscaped backyard to enjoy the mountain views or host a barbecue on the patio. This home is a true retreat in Mountain View.\",\\n      \"neighborhood_description\": \"Mountain View is a picturesque neighborhood with tree-lined streets, hiking trails, and scenic overlooks. Residents can explore the nearby parks, farmers\\' markets, and local vineyards. With easy access to Silicon Valley tech companies and top-rated schools, Mountain View offers the perfect blend of nature and convenience.\"\\n    },\\n    {\\n      \"neighborhood\": \"Downtown Loft District\",\\n      \"price\": 750000,\\n      \"bedrooms\": 2,\\n      \"bathrooms\": 2,\\n      \"house_size\": 1800,\\n      \"description\": \"Live in style in this chic loft in the heart of the Downtown Loft District. This 2-bedroom, 2-bathroom unit features exposed brick walls, high ceilings, and industrial accents. The open-concept living area is perfect for entertaining with a gourmet kitchen and spacious dining area. Relax in the luxurious master suite with a walk-in closet and spa-like bathroom. Enjoy the vibrant urban lifestyle with top restaurants, art galleries, and nightlife just steps away.\",\\n      \"neighborhood_description\": \"Downtown Loft District is a trendy neighborhood with converted warehouses, art studios, and hip cafes. Residents can explore the local boutiques, music venues, and cultural events within walking distance. With easy access to public transportation and bike lanes, commuting to work or exploring the city is a breeze.\"\\n    },\\n    {\\n      \"neighborhood\": \"Historic District\",\\n      \"price\": 900000,\\n      \"bedrooms\": 3,\\n      \"bathrooms\": 2,\\n      \"house_size\": 2000,\\n      \"description\": \"Step back in time in this historic 3-bedroom, 2-bathroom home in the charming Historic District. The classic architecture and period details create a sense of nostalgia and charm. The updated kitchen features modern appliances and a breakfast nook overlooking the landscaped backyard. Relax on the front porch swing or host a garden party in the spacious backyard. This home is a true gem in the Historic District.\",\\n      \"neighborhood_description\": \"Historic District is a quaint neighborhood with tree-lined streets, historic homes, and local landmarks. Residents can explore the nearby museums, art galleries, and antique shops. With easy access to downtown attractions and cultural events, Historic District offers a unique blend of history and modern amenities.\"\\n    },\\n    {\\n      \"neighborhood\": \"Beachfront\",\\n      \"price\": 2000000,\\n      \"bedrooms\": 6,\\n      \"bathrooms\": 5,\\n      \"house_size\": 4000,\\n      \"description\": \"Live the ultimate beachfront lifestyle in this luxurious 6-bedroom, 5-bathroom home. The open-concept living area features floor-to-ceiling windows with panoramic ocean views. The gourmet kitchen is equipped with top-of-the-line appliances and a large island for entertaining. The expansive master suite boasts a private balcony, walk-in closet, and spa-like bathroom. Step outside to the beachfront patio to enjoy the sunset views or take a dip in the infinity pool. This home is a true paradise in Beachfront.\",\\n      \"neighborhood_description\": \"Beachfront is a sought-after neighborhood with exclusive beachfront properties and private access to the sand. Residents can enjoy surfing, sunbathing, and beach volleyball right in their backyard. With upscale dining options, beach clubs, and luxury resorts nearby, Beachfront offers a glamorous coastal lifestyle.\"\\n    },\\n    {\\n      \"neighborhood\": \"Garden District\",\\n      \"price\": 850000,\\n      \"bedrooms\": 4,\\n      \"bathrooms\": 3,\\n      \"house_size\": 2200,\\n      \"description\": \"Welcome to this charming Victorian home in the historic Garden District. This 4-bedroom, 3-bathroom home features original architectural details and modern updates. The formal living room boasts a fireplace and bay windows, perfect for cozy evenings. The gourmet kitchen is a chef\\'s dream with high-end appliances and a breakfast nook. Step outside to the landscaped garden to enjoy the peaceful surroundings or host a garden party on the patio. This home is a true gem in the Garden District.\",\\n      \"neighborhood_description\": \"Garden District is a historic neighborhood with tree-lined streets, historic mansions, and lush gardens. Residents can explore the local boutiques, art galleries, and cafes. With easy access to downtown attractions, parks, and cultural events, Garden District offers a unique blend of history and modern amenities.\"\\n    },\\n    {\\n      \"neighborhood\": \"Riverfront\",\\n      \"price\": 1800000,\\n      \"bedrooms\": 5,\\n      \"bathrooms\": 4,\\n      \"house_size\": 3500,\\n      \"description\": \"Experience riverfront living at its finest in this stunning 5-bedroom, 4-bathroom home. The open-concept floor plan features a gourmet kitchen, formal dining room, and spacious living area with panoramic river views. The luxurious master suite boasts a private balcony, walk-in closet, and spa-like bathroom. Step outside to the riverfront patio to enjoy the serene views or take a dip in the infinity pool. This home is a true oasis in Riverfront.\",\\n      \"neighborhood_description\": \"Riverfront is a prestigious neighborhood with exclusive riverfront properties and private boat docks. Residents can enjoy boating, fishing, and water sports right in their backyard. With upscale dining options, boutique shops, and yacht clubs nearby, Riverfront offers a luxurious waterfront lifestyle.\"\\n    },\\n    {\\n      \"neighborhood\": \"Parkside\",\\n      \"price\": 950000,\\n      \"bedrooms\": 4,\\n      \"bathrooms\": 3,\\n      \"house_size\": 2400,\\n      \"description\": \"Live in harmony with nature in this eco-friendly home in the serene Parkside neighborhood. This 4-bedroom, 3-bathroom home features energy-efficient features and sustainable materials. The open-concept living area is flooded with natural light and offers views of the landscaped garden. The gourmet kitchen is equipped with modern appliances and a large island for entertaining. Step outside to the outdoor deck to enjoy the peaceful surroundings or host a barbecue in the backyard. This home is a true sanctuary in Parkside.\",\\n      \"neighborhood_description\": \"Parkside is a green community with parks, bike paths, and community gardens. Residents can enjoy outdoor activities, farmers\\' markets, and local cafes. With easy access to public transportation and eco-friendly amenities, Parkside offers a sustainable lifestyle without compromising on comfort.\"\\n    }\\n  ]\\n}\\n```'"
      ]
     },
     "execution_count": 6,
     "metadata": {},
     "output_type": "execute_result"
    }
   ],
   "source": [
    "output = llm(query)\n",
    "output"
   ]
  },
  {
   "cell_type": "code",
   "execution_count": 7,
   "id": "53f7fcde",
   "metadata": {},
   "outputs": [
    {
     "data": {
      "text/plain": [
       "ListingCollection(listing=[RealEstateListing(neighborhood='Green Oaks', price=800000, bedrooms=3, bathrooms=2, house_size=2000, description='Welcome to this eco-friendly oasis nestled in the heart of Green Oaks. This charming 3-bedroom, 2-bathroom home boasts energy-efficient features such as solar panels and a well-insulated structure. Natural light floods the living spaces, highlighting the beautiful hardwood floors and eco-conscious finishes. The open-concept kitchen and dining area lead to a spacious backyard with a vegetable garden, perfect for the eco-conscious family. Embrace sustainable living without compromising on style in this Green Oaks gem.', neighborhood_description='Green Oaks is a close-knit, environmentally-conscious community with access to organic grocery stores, community gardens, and bike paths. Take a stroll through the nearby Green Oaks Park or grab a cup of coffee at the cozy Green Bean Cafe. With easy access to public transportation and bike lanes, commuting is a breeze.'), RealEstateListing(neighborhood='Sunnyvale', price=950000, bedrooms=4, bathrooms=3, house_size=2500, description='Located in the desirable neighborhood of Sunnyvale, this 4-bedroom, 3-bathroom home offers spacious living areas and a beautifully landscaped backyard. The updated kitchen features stainless steel appliances and granite countertops, perfect for entertaining guests. Enjoy the California sunshine in the private backyard oasis with a sparkling pool and outdoor kitchen. This home is perfect for families looking for a blend of comfort and luxury.', neighborhood_description=\"Sunnyvale is known for its top-rated schools, vibrant downtown area, and easy access to major tech companies. Residents can enjoy hiking trails at nearby parks or explore the local farmers' market for fresh produce and artisan goods.\"), RealEstateListing(neighborhood='Lakeview', price=700000, bedrooms=2, bathrooms=1, house_size=1500, description='Welcome to this charming bungalow in the heart of Lakeview. This 2-bedroom, 1-bathroom home features a cozy living room with a fireplace, perfect for relaxing on chilly evenings. The updated kitchen boasts stainless steel appliances and a breakfast nook overlooking the landscaped backyard. Enjoy the peaceful neighborhood from the front porch swing or host a barbecue in the spacious backyard. This home is a true gem in Lakeview.', neighborhood_description='Lakeview is a family-friendly neighborhood with tree-lined streets, local cafes, and boutique shops. Residents can enjoy picnics at the nearby park or take a leisurely bike ride along the scenic lakefront trail.'), RealEstateListing(neighborhood='Downtown', price=1200000, bedrooms=3, bathrooms=2, house_size=1800, description='Luxury living awaits in this modern condo in the heart of Downtown. This 3-bedroom, 2-bathroom unit features floor-to-ceiling windows with stunning city views. The gourmet kitchen is equipped with high-end appliances and sleek finishes. Relax in the spa-like master suite with a soaking tub and walk-in closet. Enjoy the convenience of living in the vibrant Downtown area with access to top restaurants, shopping, and entertainment.', neighborhood_description='Downtown is a bustling urban neighborhood with a mix of historic architecture and modern skyscrapers. Residents can explore art galleries, theaters, and cultural attractions within walking distance. With easy access to public transportation, commuting to work or exploring the city is a breeze.'), RealEstateListing(neighborhood='Hillside', price=850000, bedrooms=4, bathrooms=3, house_size=2200, description=\"Perched on a hillside with panoramic views, this 4-bedroom, 3-bathroom home offers a peaceful retreat from the city. The spacious living room features a cozy fireplace and vaulted ceilings, perfect for relaxing with family and friends. The gourmet kitchen is a chef's dream with high-end appliances and granite countertops. Step outside to the expansive deck to enjoy the sunset views or host a barbecue in the landscaped backyard. This home is a true sanctuary in Hillside.\", neighborhood_description='Hillside is a quiet residential neighborhood with winding streets and lush greenery. Residents can enjoy hiking trails in the nearby hills or relax at the local country club. With easy access to freeways, shopping centers, and top-rated schools, Hillside offers the perfect balance of tranquility and convenience.'), RealEstateListing(neighborhood='Waterfront', price=1600000, bedrooms=5, bathrooms=4, house_size=3500, description='Experience waterfront living at its finest in this stunning 5-bedroom, 4-bathroom home. The open-concept floor plan features a gourmet kitchen, formal dining room, and spacious living area with panoramic views of the water. The luxurious master suite boasts a private balcony, walk-in closet, and spa-like bathroom. Step outside to the waterfront patio to enjoy the sea breeze or take a dip in the infinity pool. This home is a true oasis in Waterfront.', neighborhood_description='Waterfront is a prestigious neighborhood with exclusive waterfront properties and private marinas. Residents can enjoy boating, fishing, and water sports right in their backyard. With upscale dining options, boutique shops, and yacht clubs nearby, Waterfront offers a luxurious coastal lifestyle.'), RealEstateListing(neighborhood='Mountain View', price=1100000, bedrooms=4, bathrooms=3, house_size=2400, description='Nestled in the scenic hills of Mountain View, this 4-bedroom, 3-bathroom home offers breathtaking views and modern amenities. The open-concept living area features a gourmet kitchen with high-end appliances and a cozy fireplace. The spacious master suite boasts a private balcony and spa-like bathroom with a soaking tub. Step outside to the landscaped backyard to enjoy the mountain views or host a barbecue on the patio. This home is a true retreat in Mountain View.', neighborhood_description=\"Mountain View is a picturesque neighborhood with tree-lined streets, hiking trails, and scenic overlooks. Residents can explore the nearby parks, farmers' markets, and local vineyards. With easy access to Silicon Valley tech companies and top-rated schools, Mountain View offers the perfect blend of nature and convenience.\"), RealEstateListing(neighborhood='Downtown Loft District', price=750000, bedrooms=2, bathrooms=2, house_size=1800, description='Live in style in this chic loft in the heart of the Downtown Loft District. This 2-bedroom, 2-bathroom unit features exposed brick walls, high ceilings, and industrial accents. The open-concept living area is perfect for entertaining with a gourmet kitchen and spacious dining area. Relax in the luxurious master suite with a walk-in closet and spa-like bathroom. Enjoy the vibrant urban lifestyle with top restaurants, art galleries, and nightlife just steps away.', neighborhood_description='Downtown Loft District is a trendy neighborhood with converted warehouses, art studios, and hip cafes. Residents can explore the local boutiques, music venues, and cultural events within walking distance. With easy access to public transportation and bike lanes, commuting to work or exploring the city is a breeze.'), RealEstateListing(neighborhood='Historic District', price=900000, bedrooms=3, bathrooms=2, house_size=2000, description='Step back in time in this historic 3-bedroom, 2-bathroom home in the charming Historic District. The classic architecture and period details create a sense of nostalgia and charm. The updated kitchen features modern appliances and a breakfast nook overlooking the landscaped backyard. Relax on the front porch swing or host a garden party in the spacious backyard. This home is a true gem in the Historic District.', neighborhood_description='Historic District is a quaint neighborhood with tree-lined streets, historic homes, and local landmarks. Residents can explore the nearby museums, art galleries, and antique shops. With easy access to downtown attractions and cultural events, Historic District offers a unique blend of history and modern amenities.'), RealEstateListing(neighborhood='Beachfront', price=2000000, bedrooms=6, bathrooms=5, house_size=4000, description='Live the ultimate beachfront lifestyle in this luxurious 6-bedroom, 5-bathroom home. The open-concept living area features floor-to-ceiling windows with panoramic ocean views. The gourmet kitchen is equipped with top-of-the-line appliances and a large island for entertaining. The expansive master suite boasts a private balcony, walk-in closet, and spa-like bathroom. Step outside to the beachfront patio to enjoy the sunset views or take a dip in the infinity pool. This home is a true paradise in Beachfront.', neighborhood_description='Beachfront is a sought-after neighborhood with exclusive beachfront properties and private access to the sand. Residents can enjoy surfing, sunbathing, and beach volleyball right in their backyard. With upscale dining options, beach clubs, and luxury resorts nearby, Beachfront offers a glamorous coastal lifestyle.'), RealEstateListing(neighborhood='Garden District', price=850000, bedrooms=4, bathrooms=3, house_size=2200, description=\"Welcome to this charming Victorian home in the historic Garden District. This 4-bedroom, 3-bathroom home features original architectural details and modern updates. The formal living room boasts a fireplace and bay windows, perfect for cozy evenings. The gourmet kitchen is a chef's dream with high-end appliances and a breakfast nook. Step outside to the landscaped garden to enjoy the peaceful surroundings or host a garden party on the patio. This home is a true gem in the Garden District.\", neighborhood_description='Garden District is a historic neighborhood with tree-lined streets, historic mansions, and lush gardens. Residents can explore the local boutiques, art galleries, and cafes. With easy access to downtown attractions, parks, and cultural events, Garden District offers a unique blend of history and modern amenities.'), RealEstateListing(neighborhood='Riverfront', price=1800000, bedrooms=5, bathrooms=4, house_size=3500, description='Experience riverfront living at its finest in this stunning 5-bedroom, 4-bathroom home. The open-concept floor plan features a gourmet kitchen, formal dining room, and spacious living area with panoramic river views. The luxurious master suite boasts a private balcony, walk-in closet, and spa-like bathroom. Step outside to the riverfront patio to enjoy the serene views or take a dip in the infinity pool. This home is a true oasis in Riverfront.', neighborhood_description='Riverfront is a prestigious neighborhood with exclusive riverfront properties and private boat docks. Residents can enjoy boating, fishing, and water sports right in their backyard. With upscale dining options, boutique shops, and yacht clubs nearby, Riverfront offers a luxurious waterfront lifestyle.'), RealEstateListing(neighborhood='Parkside', price=950000, bedrooms=4, bathrooms=3, house_size=2400, description='Live in harmony with nature in this eco-friendly home in the serene Parkside neighborhood. This 4-bedroom, 3-bathroom home features energy-efficient features and sustainable materials. The open-concept living area is flooded with natural light and offers views of the landscaped garden. The gourmet kitchen is equipped with modern appliances and a large island for entertaining. Step outside to the outdoor deck to enjoy the peaceful surroundings or host a barbecue in the backyard. This home is a true sanctuary in Parkside.', neighborhood_description=\"Parkside is a green community with parks, bike paths, and community gardens. Residents can enjoy outdoor activities, farmers' markets, and local cafes. With easy access to public transportation and eco-friendly amenities, Parkside offers a sustainable lifestyle without compromising on comfort.\")])"
      ]
     },
     "execution_count": 7,
     "metadata": {},
     "output_type": "execute_result"
    }
   ],
   "source": [
    "listings = parser.parse(output)\n",
    "listings"
   ]
  },
  {
   "cell_type": "markdown",
   "id": "fc2af601",
   "metadata": {},
   "source": [
    "Converting to DataFrame"
   ]
  },
  {
   "cell_type": "code",
   "execution_count": null,
   "id": "de3ba6cd",
   "metadata": {},
   "outputs": [],
   "source": [
    "!pip install pandas"
   ]
  },
  {
   "cell_type": "code",
   "execution_count": 8,
   "id": "deae024e",
   "metadata": {},
   "outputs": [
    {
     "data": {
      "text/html": [
       "<div>\n",
       "<style scoped>\n",
       "    .dataframe tbody tr th:only-of-type {\n",
       "        vertical-align: middle;\n",
       "    }\n",
       "\n",
       "    .dataframe tbody tr th {\n",
       "        vertical-align: top;\n",
       "    }\n",
       "\n",
       "    .dataframe thead th {\n",
       "        text-align: right;\n",
       "    }\n",
       "</style>\n",
       "<table border=\"1\" class=\"dataframe\">\n",
       "  <thead>\n",
       "    <tr style=\"text-align: right;\">\n",
       "      <th></th>\n",
       "      <th>neighborhood</th>\n",
       "      <th>price</th>\n",
       "      <th>bedrooms</th>\n",
       "      <th>bathrooms</th>\n",
       "      <th>house_size</th>\n",
       "      <th>description</th>\n",
       "      <th>neighborhood_description</th>\n",
       "    </tr>\n",
       "  </thead>\n",
       "  <tbody>\n",
       "    <tr>\n",
       "      <th>0</th>\n",
       "      <td>Green Oaks</td>\n",
       "      <td>800000</td>\n",
       "      <td>3</td>\n",
       "      <td>2</td>\n",
       "      <td>2000</td>\n",
       "      <td>Welcome to this eco-friendly oasis nestled in ...</td>\n",
       "      <td>Green Oaks is a close-knit, environmentally-co...</td>\n",
       "    </tr>\n",
       "    <tr>\n",
       "      <th>1</th>\n",
       "      <td>Sunnyvale</td>\n",
       "      <td>950000</td>\n",
       "      <td>4</td>\n",
       "      <td>3</td>\n",
       "      <td>2500</td>\n",
       "      <td>Located in the desirable neighborhood of Sunny...</td>\n",
       "      <td>Sunnyvale is known for its top-rated schools, ...</td>\n",
       "    </tr>\n",
       "    <tr>\n",
       "      <th>2</th>\n",
       "      <td>Lakeview</td>\n",
       "      <td>700000</td>\n",
       "      <td>2</td>\n",
       "      <td>1</td>\n",
       "      <td>1500</td>\n",
       "      <td>Welcome to this charming bungalow in the heart...</td>\n",
       "      <td>Lakeview is a family-friendly neighborhood wit...</td>\n",
       "    </tr>\n",
       "    <tr>\n",
       "      <th>3</th>\n",
       "      <td>Downtown</td>\n",
       "      <td>1200000</td>\n",
       "      <td>3</td>\n",
       "      <td>2</td>\n",
       "      <td>1800</td>\n",
       "      <td>Luxury living awaits in this modern condo in t...</td>\n",
       "      <td>Downtown is a bustling urban neighborhood with...</td>\n",
       "    </tr>\n",
       "    <tr>\n",
       "      <th>4</th>\n",
       "      <td>Hillside</td>\n",
       "      <td>850000</td>\n",
       "      <td>4</td>\n",
       "      <td>3</td>\n",
       "      <td>2200</td>\n",
       "      <td>Perched on a hillside with panoramic views, th...</td>\n",
       "      <td>Hillside is a quiet residential neighborhood w...</td>\n",
       "    </tr>\n",
       "    <tr>\n",
       "      <th>5</th>\n",
       "      <td>Waterfront</td>\n",
       "      <td>1600000</td>\n",
       "      <td>5</td>\n",
       "      <td>4</td>\n",
       "      <td>3500</td>\n",
       "      <td>Experience waterfront living at its finest in ...</td>\n",
       "      <td>Waterfront is a prestigious neighborhood with ...</td>\n",
       "    </tr>\n",
       "    <tr>\n",
       "      <th>6</th>\n",
       "      <td>Mountain View</td>\n",
       "      <td>1100000</td>\n",
       "      <td>4</td>\n",
       "      <td>3</td>\n",
       "      <td>2400</td>\n",
       "      <td>Nestled in the scenic hills of Mountain View, ...</td>\n",
       "      <td>Mountain View is a picturesque neighborhood wi...</td>\n",
       "    </tr>\n",
       "    <tr>\n",
       "      <th>7</th>\n",
       "      <td>Downtown Loft District</td>\n",
       "      <td>750000</td>\n",
       "      <td>2</td>\n",
       "      <td>2</td>\n",
       "      <td>1800</td>\n",
       "      <td>Live in style in this chic loft in the heart o...</td>\n",
       "      <td>Downtown Loft District is a trendy neighborhoo...</td>\n",
       "    </tr>\n",
       "    <tr>\n",
       "      <th>8</th>\n",
       "      <td>Historic District</td>\n",
       "      <td>900000</td>\n",
       "      <td>3</td>\n",
       "      <td>2</td>\n",
       "      <td>2000</td>\n",
       "      <td>Step back in time in this historic 3-bedroom, ...</td>\n",
       "      <td>Historic District is a quaint neighborhood wit...</td>\n",
       "    </tr>\n",
       "    <tr>\n",
       "      <th>9</th>\n",
       "      <td>Beachfront</td>\n",
       "      <td>2000000</td>\n",
       "      <td>6</td>\n",
       "      <td>5</td>\n",
       "      <td>4000</td>\n",
       "      <td>Live the ultimate beachfront lifestyle in this...</td>\n",
       "      <td>Beachfront is a sought-after neighborhood with...</td>\n",
       "    </tr>\n",
       "    <tr>\n",
       "      <th>10</th>\n",
       "      <td>Garden District</td>\n",
       "      <td>850000</td>\n",
       "      <td>4</td>\n",
       "      <td>3</td>\n",
       "      <td>2200</td>\n",
       "      <td>Welcome to this charming Victorian home in the...</td>\n",
       "      <td>Garden District is a historic neighborhood wit...</td>\n",
       "    </tr>\n",
       "    <tr>\n",
       "      <th>11</th>\n",
       "      <td>Riverfront</td>\n",
       "      <td>1800000</td>\n",
       "      <td>5</td>\n",
       "      <td>4</td>\n",
       "      <td>3500</td>\n",
       "      <td>Experience riverfront living at its finest in ...</td>\n",
       "      <td>Riverfront is a prestigious neighborhood with ...</td>\n",
       "    </tr>\n",
       "    <tr>\n",
       "      <th>12</th>\n",
       "      <td>Parkside</td>\n",
       "      <td>950000</td>\n",
       "      <td>4</td>\n",
       "      <td>3</td>\n",
       "      <td>2400</td>\n",
       "      <td>Live in harmony with nature in this eco-friend...</td>\n",
       "      <td>Parkside is a green community with parks, bike...</td>\n",
       "    </tr>\n",
       "  </tbody>\n",
       "</table>\n",
       "</div>"
      ],
      "text/plain": [
       "              neighborhood    price  bedrooms  bathrooms  house_size  \\\n",
       "0               Green Oaks   800000         3          2        2000   \n",
       "1                Sunnyvale   950000         4          3        2500   \n",
       "2                 Lakeview   700000         2          1        1500   \n",
       "3                 Downtown  1200000         3          2        1800   \n",
       "4                 Hillside   850000         4          3        2200   \n",
       "5               Waterfront  1600000         5          4        3500   \n",
       "6            Mountain View  1100000         4          3        2400   \n",
       "7   Downtown Loft District   750000         2          2        1800   \n",
       "8        Historic District   900000         3          2        2000   \n",
       "9               Beachfront  2000000         6          5        4000   \n",
       "10         Garden District   850000         4          3        2200   \n",
       "11              Riverfront  1800000         5          4        3500   \n",
       "12                Parkside   950000         4          3        2400   \n",
       "\n",
       "                                          description  \\\n",
       "0   Welcome to this eco-friendly oasis nestled in ...   \n",
       "1   Located in the desirable neighborhood of Sunny...   \n",
       "2   Welcome to this charming bungalow in the heart...   \n",
       "3   Luxury living awaits in this modern condo in t...   \n",
       "4   Perched on a hillside with panoramic views, th...   \n",
       "5   Experience waterfront living at its finest in ...   \n",
       "6   Nestled in the scenic hills of Mountain View, ...   \n",
       "7   Live in style in this chic loft in the heart o...   \n",
       "8   Step back in time in this historic 3-bedroom, ...   \n",
       "9   Live the ultimate beachfront lifestyle in this...   \n",
       "10  Welcome to this charming Victorian home in the...   \n",
       "11  Experience riverfront living at its finest in ...   \n",
       "12  Live in harmony with nature in this eco-friend...   \n",
       "\n",
       "                             neighborhood_description  \n",
       "0   Green Oaks is a close-knit, environmentally-co...  \n",
       "1   Sunnyvale is known for its top-rated schools, ...  \n",
       "2   Lakeview is a family-friendly neighborhood wit...  \n",
       "3   Downtown is a bustling urban neighborhood with...  \n",
       "4   Hillside is a quiet residential neighborhood w...  \n",
       "5   Waterfront is a prestigious neighborhood with ...  \n",
       "6   Mountain View is a picturesque neighborhood wi...  \n",
       "7   Downtown Loft District is a trendy neighborhoo...  \n",
       "8   Historic District is a quaint neighborhood wit...  \n",
       "9   Beachfront is a sought-after neighborhood with...  \n",
       "10  Garden District is a historic neighborhood wit...  \n",
       "11  Riverfront is a prestigious neighborhood with ...  \n",
       "12  Parkside is a green community with parks, bike...  "
      ]
     },
     "execution_count": 8,
     "metadata": {},
     "output_type": "execute_result"
    }
   ],
   "source": [
    "import pandas as pd\n",
    "df = pd.DataFrame([listing.dict() for listing in listings.listing])\n",
    "df"
   ]
  },
  {
   "cell_type": "code",
   "execution_count": 9,
   "id": "3873bc3e",
   "metadata": {},
   "outputs": [],
   "source": [
    "df.to_csv('listings.csv',index_label = 'id')"
   ]
  },
  {
   "cell_type": "markdown",
   "id": "d2023bd0",
   "metadata": {},
   "source": [
    "# Step 3: Storing Listings in a Vector Database\n",
    "Vector Database Setup: Initialize and configure ChromaDB or a similar vector database to store real estate listings.\n",
    "\n",
    "Generating and Storing Embeddings: Convert the LLM-generated listings into suitable embeddings that capture the semantic content of each listing, and store these embeddings in the vector database."
   ]
  },
  {
   "cell_type": "code",
   "execution_count": 10,
   "id": "55844ba9",
   "metadata": {},
   "outputs": [],
   "source": [
    "from langchain.document_loaders.csv_loader import CSVLoader\n",
    "from langchain.embeddings.openai import OpenAIEmbeddings\n",
    "from langchain.llms import OpenAI\n",
    "from langchain.text_splitter import CharacterTextSplitter\n",
    "from langchain.vectorstores import Chroma\n",
    "CHROMA_PATH = \"chroma\""
   ]
  },
  {
   "cell_type": "code",
   "execution_count": 11,
   "id": "12e74b91",
   "metadata": {},
   "outputs": [
    {
     "data": {
      "text/html": [
       "<div>\n",
       "<style scoped>\n",
       "    .dataframe tbody tr th:only-of-type {\n",
       "        vertical-align: middle;\n",
       "    }\n",
       "\n",
       "    .dataframe tbody tr th {\n",
       "        vertical-align: top;\n",
       "    }\n",
       "\n",
       "    .dataframe thead th {\n",
       "        text-align: right;\n",
       "    }\n",
       "</style>\n",
       "<table border=\"1\" class=\"dataframe\">\n",
       "  <thead>\n",
       "    <tr style=\"text-align: right;\">\n",
       "      <th></th>\n",
       "      <th>id</th>\n",
       "      <th>neighborhood</th>\n",
       "      <th>price</th>\n",
       "      <th>bedrooms</th>\n",
       "      <th>bathrooms</th>\n",
       "      <th>house_size</th>\n",
       "      <th>description</th>\n",
       "      <th>neighborhood_description</th>\n",
       "    </tr>\n",
       "  </thead>\n",
       "  <tbody>\n",
       "    <tr>\n",
       "      <th>0</th>\n",
       "      <td>0</td>\n",
       "      <td>Green Oaks</td>\n",
       "      <td>800000</td>\n",
       "      <td>3</td>\n",
       "      <td>2</td>\n",
       "      <td>2000</td>\n",
       "      <td>Welcome to this eco-friendly oasis nestled in ...</td>\n",
       "      <td>Green Oaks is a close-knit, environmentally-co...</td>\n",
       "    </tr>\n",
       "    <tr>\n",
       "      <th>1</th>\n",
       "      <td>1</td>\n",
       "      <td>Sunnyvale</td>\n",
       "      <td>950000</td>\n",
       "      <td>4</td>\n",
       "      <td>3</td>\n",
       "      <td>2500</td>\n",
       "      <td>Located in the desirable neighborhood of Sunny...</td>\n",
       "      <td>Sunnyvale is known for its top-rated schools, ...</td>\n",
       "    </tr>\n",
       "    <tr>\n",
       "      <th>2</th>\n",
       "      <td>2</td>\n",
       "      <td>Lakeview</td>\n",
       "      <td>700000</td>\n",
       "      <td>2</td>\n",
       "      <td>1</td>\n",
       "      <td>1500</td>\n",
       "      <td>Welcome to this charming bungalow in the heart...</td>\n",
       "      <td>Lakeview is a family-friendly neighborhood wit...</td>\n",
       "    </tr>\n",
       "    <tr>\n",
       "      <th>3</th>\n",
       "      <td>3</td>\n",
       "      <td>Downtown</td>\n",
       "      <td>1200000</td>\n",
       "      <td>3</td>\n",
       "      <td>2</td>\n",
       "      <td>1800</td>\n",
       "      <td>Luxury living awaits in this modern condo in t...</td>\n",
       "      <td>Downtown is a bustling urban neighborhood with...</td>\n",
       "    </tr>\n",
       "    <tr>\n",
       "      <th>4</th>\n",
       "      <td>4</td>\n",
       "      <td>Hillside</td>\n",
       "      <td>850000</td>\n",
       "      <td>4</td>\n",
       "      <td>3</td>\n",
       "      <td>2200</td>\n",
       "      <td>Perched on a hillside with panoramic views, th...</td>\n",
       "      <td>Hillside is a quiet residential neighborhood w...</td>\n",
       "    </tr>\n",
       "    <tr>\n",
       "      <th>5</th>\n",
       "      <td>5</td>\n",
       "      <td>Waterfront</td>\n",
       "      <td>1600000</td>\n",
       "      <td>5</td>\n",
       "      <td>4</td>\n",
       "      <td>3500</td>\n",
       "      <td>Experience waterfront living at its finest in ...</td>\n",
       "      <td>Waterfront is a prestigious neighborhood with ...</td>\n",
       "    </tr>\n",
       "    <tr>\n",
       "      <th>6</th>\n",
       "      <td>6</td>\n",
       "      <td>Mountain View</td>\n",
       "      <td>1100000</td>\n",
       "      <td>4</td>\n",
       "      <td>3</td>\n",
       "      <td>2400</td>\n",
       "      <td>Nestled in the scenic hills of Mountain View, ...</td>\n",
       "      <td>Mountain View is a picturesque neighborhood wi...</td>\n",
       "    </tr>\n",
       "    <tr>\n",
       "      <th>7</th>\n",
       "      <td>7</td>\n",
       "      <td>Downtown Loft District</td>\n",
       "      <td>750000</td>\n",
       "      <td>2</td>\n",
       "      <td>2</td>\n",
       "      <td>1800</td>\n",
       "      <td>Live in style in this chic loft in the heart o...</td>\n",
       "      <td>Downtown Loft District is a trendy neighborhoo...</td>\n",
       "    </tr>\n",
       "    <tr>\n",
       "      <th>8</th>\n",
       "      <td>8</td>\n",
       "      <td>Historic District</td>\n",
       "      <td>900000</td>\n",
       "      <td>3</td>\n",
       "      <td>2</td>\n",
       "      <td>2000</td>\n",
       "      <td>Step back in time in this historic 3-bedroom, ...</td>\n",
       "      <td>Historic District is a quaint neighborhood wit...</td>\n",
       "    </tr>\n",
       "    <tr>\n",
       "      <th>9</th>\n",
       "      <td>9</td>\n",
       "      <td>Beachfront</td>\n",
       "      <td>2000000</td>\n",
       "      <td>6</td>\n",
       "      <td>5</td>\n",
       "      <td>4000</td>\n",
       "      <td>Live the ultimate beachfront lifestyle in this...</td>\n",
       "      <td>Beachfront is a sought-after neighborhood with...</td>\n",
       "    </tr>\n",
       "    <tr>\n",
       "      <th>10</th>\n",
       "      <td>10</td>\n",
       "      <td>Garden District</td>\n",
       "      <td>850000</td>\n",
       "      <td>4</td>\n",
       "      <td>3</td>\n",
       "      <td>2200</td>\n",
       "      <td>Welcome to this charming Victorian home in the...</td>\n",
       "      <td>Garden District is a historic neighborhood wit...</td>\n",
       "    </tr>\n",
       "    <tr>\n",
       "      <th>11</th>\n",
       "      <td>11</td>\n",
       "      <td>Riverfront</td>\n",
       "      <td>1800000</td>\n",
       "      <td>5</td>\n",
       "      <td>4</td>\n",
       "      <td>3500</td>\n",
       "      <td>Experience riverfront living at its finest in ...</td>\n",
       "      <td>Riverfront is a prestigious neighborhood with ...</td>\n",
       "    </tr>\n",
       "    <tr>\n",
       "      <th>12</th>\n",
       "      <td>12</td>\n",
       "      <td>Parkside</td>\n",
       "      <td>950000</td>\n",
       "      <td>4</td>\n",
       "      <td>3</td>\n",
       "      <td>2400</td>\n",
       "      <td>Live in harmony with nature in this eco-friend...</td>\n",
       "      <td>Parkside is a green community with parks, bike...</td>\n",
       "    </tr>\n",
       "  </tbody>\n",
       "</table>\n",
       "</div>"
      ],
      "text/plain": [
       "    id            neighborhood    price  bedrooms  bathrooms  house_size  \\\n",
       "0    0              Green Oaks   800000         3          2        2000   \n",
       "1    1               Sunnyvale   950000         4          3        2500   \n",
       "2    2                Lakeview   700000         2          1        1500   \n",
       "3    3                Downtown  1200000         3          2        1800   \n",
       "4    4                Hillside   850000         4          3        2200   \n",
       "5    5              Waterfront  1600000         5          4        3500   \n",
       "6    6           Mountain View  1100000         4          3        2400   \n",
       "7    7  Downtown Loft District   750000         2          2        1800   \n",
       "8    8       Historic District   900000         3          2        2000   \n",
       "9    9              Beachfront  2000000         6          5        4000   \n",
       "10  10         Garden District   850000         4          3        2200   \n",
       "11  11              Riverfront  1800000         5          4        3500   \n",
       "12  12                Parkside   950000         4          3        2400   \n",
       "\n",
       "                                          description  \\\n",
       "0   Welcome to this eco-friendly oasis nestled in ...   \n",
       "1   Located in the desirable neighborhood of Sunny...   \n",
       "2   Welcome to this charming bungalow in the heart...   \n",
       "3   Luxury living awaits in this modern condo in t...   \n",
       "4   Perched on a hillside with panoramic views, th...   \n",
       "5   Experience waterfront living at its finest in ...   \n",
       "6   Nestled in the scenic hills of Mountain View, ...   \n",
       "7   Live in style in this chic loft in the heart o...   \n",
       "8   Step back in time in this historic 3-bedroom, ...   \n",
       "9   Live the ultimate beachfront lifestyle in this...   \n",
       "10  Welcome to this charming Victorian home in the...   \n",
       "11  Experience riverfront living at its finest in ...   \n",
       "12  Live in harmony with nature in this eco-friend...   \n",
       "\n",
       "                             neighborhood_description  \n",
       "0   Green Oaks is a close-knit, environmentally-co...  \n",
       "1   Sunnyvale is known for its top-rated schools, ...  \n",
       "2   Lakeview is a family-friendly neighborhood wit...  \n",
       "3   Downtown is a bustling urban neighborhood with...  \n",
       "4   Hillside is a quiet residential neighborhood w...  \n",
       "5   Waterfront is a prestigious neighborhood with ...  \n",
       "6   Mountain View is a picturesque neighborhood wi...  \n",
       "7   Downtown Loft District is a trendy neighborhoo...  \n",
       "8   Historic District is a quaint neighborhood wit...  \n",
       "9   Beachfront is a sought-after neighborhood with...  \n",
       "10  Garden District is a historic neighborhood wit...  \n",
       "11  Riverfront is a prestigious neighborhood with ...  \n",
       "12  Parkside is a green community with parks, bike...  "
      ]
     },
     "execution_count": 11,
     "metadata": {},
     "output_type": "execute_result"
    }
   ],
   "source": [
    "df = pd.read_csv('listings.csv')\n",
    "df"
   ]
  },
  {
   "cell_type": "code",
   "execution_count": 12,
   "id": "951ad0fb",
   "metadata": {},
   "outputs": [],
   "source": [
    "from langchain.schema import Document\n",
    "documents = []\n",
    "for index, row in df.iterrows():\n",
    "    documents.append(Document(page_content=row['description'], metadata={'id': str(index)}))"
   ]
  },
  {
   "cell_type": "code",
   "execution_count": 13,
   "id": "6179bb66",
   "metadata": {},
   "outputs": [],
   "source": [
    "splitter = CharacterTextSplitter(chunk_size=300,chunk_overlap=100)\n",
    "split_docs = splitter.split_documents(documents)"
   ]
  },
  {
   "cell_type": "code",
   "execution_count": 14,
   "id": "9551dd3c",
   "metadata": {},
   "outputs": [
    {
     "name": "stdout",
     "output_type": "stream",
     "text": [
      "Split 13 documents into 13 chunks.\n"
     ]
    }
   ],
   "source": [
    "print(f\"Split {len(documents)} documents into {len(split_docs)} chunks.\")"
   ]
  },
  {
   "cell_type": "code",
   "execution_count": 15,
   "id": "d3753c20",
   "metadata": {},
   "outputs": [
    {
     "name": "stdout",
     "output_type": "stream",
     "text": [
      "page_content='Luxury living awaits in this modern condo in the heart of Downtown. This 3-bedroom, 2-bathroom unit features floor-to-ceiling windows with stunning city views. The gourmet kitchen is equipped with high-end appliances and sleek finishes. Relax in the spa-like master suite with a soaking tub and walk-in closet. Enjoy the convenience of living in the vibrant Downtown area with access to top restaurants, shopping, and entertainment.' metadata={'id': '3'}\n"
     ]
    }
   ],
   "source": [
    "print(split_docs[3])"
   ]
  },
  {
   "cell_type": "code",
   "execution_count": 16,
   "id": "f3b20fa1",
   "metadata": {},
   "outputs": [
    {
     "name": "stdout",
     "output_type": "stream",
     "text": [
      "Luxury living awaits in this modern condo in the heart of Downtown. This 3-bedroom, 2-bathroom unit features floor-to-ceiling windows with stunning city views. The gourmet kitchen is equipped with high-end appliances and sleek finishes. Relax in the spa-like master suite with a soaking tub and walk-in closet. Enjoy the convenience of living in the vibrant Downtown area with access to top restaurants, shopping, and entertainment.\n",
      "{'id': '3'}\n"
     ]
    }
   ],
   "source": [
    "print(split_docs[3].page_content)\n",
    "print(split_docs[3].metadata)"
   ]
  },
  {
   "cell_type": "code",
   "execution_count": 17,
   "id": "7b9a92df",
   "metadata": {},
   "outputs": [
    {
     "name": "stdout",
     "output_type": "stream",
     "text": [
      "Saved split docs.\n"
     ]
    }
   ],
   "source": [
    "# Save to Chroma - backup\n",
    "import shutil\n",
    "if os.path.exists(CHROMA_PATH):\n",
    "    shutil.rmtree(CHROMA_PATH)\n",
    "\n",
    "db = Chroma.from_documents(\n",
    "    split_docs, OpenAIEmbeddings(), persist_directory=CHROMA_PATH\n",
    ")\n",
    "db.persist()\n",
    "print(f\"Saved split docs.\")"
   ]
  },
  {
   "cell_type": "markdown",
   "id": "ab57ec9d",
   "metadata": {},
   "source": [
    "# Step 4: Building the User Preference Interface\n",
    "Collect buyer preferences, such as the number of bedrooms, bathrooms, location, and other specific requirements from a set of questions or telling the buyer to enter their preferences in natural language\n",
    "\n",
    "Buyer Preference Parsing: Implement logic to interpret and structure these preferences for querying the vector database."
   ]
  },
  {
   "cell_type": "code",
   "execution_count": 18,
   "id": "267696f5",
   "metadata": {},
   "outputs": [],
   "source": [
    "preferences = [\n",
    "    \"A comfortable three-bedroom house with a spacious kitchen and a cozy living room.\",\n",
    "    \"A quiet neighborhood, good local schools, and convenient shopping options.\",\n",
    "    \"A backyard for gardening, a two-car garage, and a modern, energy-efficient heating system.\",\n",
    "    \"Easy access to a reliable bus line, proximity to a major highway, and bike-friendly roads.\",\n",
    "    \"A balance between suburban tranquility and access to urban amenities like restaurants and theaters.\"\n",
    "]"
   ]
  },
  {
   "cell_type": "markdown",
   "id": "3a0bf904",
   "metadata": {},
   "source": [
    "# Step 5: Searching Based on Preferences\n",
    "Semantic Search Implementation: Use the structured buyer preferences to perform a semantic search on the vector database, retrieving listings that most closely match the user's requirements.\n",
    "\n",
    "Listing Retrieval Logic: Fine-tune the retrieval algorithm to ensure that the most relevant listings are selected based on the semantic closeness to the buyer’s preferences"
   ]
  },
  {
   "cell_type": "code",
   "execution_count": 19,
   "id": "09eb7a7d",
   "metadata": {},
   "outputs": [],
   "source": [
    "PROMPT_TEMPLATE = \\\n",
    "\"\"\"\n",
    "Context: \n",
    "\n",
    "{context}\n",
    "\n",
    "----\n",
    "\n",
    "Provide the answer for the question: {question}\n",
    "\"\"\""
   ]
  },
  {
   "cell_type": "code",
   "execution_count": 20,
   "id": "c863d33f",
   "metadata": {},
   "outputs": [],
   "source": [
    "from langchain.chat_models import ChatOpenAI\n",
    "def get_top_listings(query, PROMPT_TEMPLATE) -> list[int]:\n",
    "    embedding_function = OpenAIEmbeddings()\n",
    "    db = Chroma(persist_directory=CHROMA_PATH, embedding_function=embedding_function)\n",
    "\n",
    "    results = db.similarity_search_with_relevance_scores(query, k=5)\n",
    "    if len(results) == 0 or results[0][1] < 0.7:\n",
    "        print(f\"Unable to find matching results.\")\n",
    "    else:\n",
    "        context_text = \"\\n\\n---\\n\\n\".join([doc.page_content for doc, _score in results])\n",
    "        prompt_template = PromptTemplate.from_template(PROMPT_TEMPLATE)\n",
    "        prompt = prompt_template.format(context=context_text, question=query)\n",
    "        print(f\"Generated Prompt:\\n{prompt}\")\n",
    "        \n",
    "        model = ChatOpenAI()\n",
    "        response_text = model.predict(prompt)\n",
    "        sources = [doc.metadata.get(\"id\", None) for doc, _score in results]\n",
    "        formatted_response = f\"Response: {response_text}\\nSources: {sources}\"\n",
    "        print(formatted_response)"
   ]
  },
  {
   "cell_type": "code",
   "execution_count": 21,
   "id": "06827828",
   "metadata": {},
   "outputs": [
    {
     "name": "stdout",
     "output_type": "stream",
     "text": [
      "Generated Prompt:\n",
      "\n",
      "Context: \n",
      "\n",
      "Welcome to this eco-friendly oasis nestled in the heart of Green Oaks. This charming 3-bedroom, 2-bathroom home boasts energy-efficient features such as solar panels and a well-insulated structure. Natural light floods the living spaces, highlighting the beautiful hardwood floors and eco-conscious finishes. The open-concept kitchen and dining area lead to a spacious backyard with a vegetable garden, perfect for the eco-conscious family. Embrace sustainable living without compromising on style in this Green Oaks gem.\n",
      "\n",
      "---\n",
      "\n",
      "Live in harmony with nature in this eco-friendly home in the serene Parkside neighborhood. This 4-bedroom, 3-bathroom home features energy-efficient features and sustainable materials. The open-concept living area is flooded with natural light and offers views of the landscaped garden. The gourmet kitchen is equipped with modern appliances and a large island for entertaining. Step outside to the outdoor deck to enjoy the peaceful surroundings or host a barbecue in the backyard. This home is a true sanctuary in Parkside.\n",
      "\n",
      "---\n",
      "\n",
      "Located in the desirable neighborhood of Sunnyvale, this 4-bedroom, 3-bathroom home offers spacious living areas and a beautifully landscaped backyard. The updated kitchen features stainless steel appliances and granite countertops, perfect for entertaining guests. Enjoy the California sunshine in the private backyard oasis with a sparkling pool and outdoor kitchen. This home is perfect for families looking for a blend of comfort and luxury.\n",
      "\n",
      "---\n",
      "\n",
      "Step back in time in this historic 3-bedroom, 2-bathroom home in the charming Historic District. The classic architecture and period details create a sense of nostalgia and charm. The updated kitchen features modern appliances and a breakfast nook overlooking the landscaped backyard. Relax on the front porch swing or host a garden party in the spacious backyard. This home is a true gem in the Historic District.\n",
      "\n",
      "---\n",
      "\n",
      "Welcome to this charming bungalow in the heart of Lakeview. This 2-bedroom, 1-bathroom home features a cozy living room with a fireplace, perfect for relaxing on chilly evenings. The updated kitchen boasts stainless steel appliances and a breakfast nook overlooking the landscaped backyard. Enjoy the peaceful neighborhood from the front porch swing or host a barbecue in the spacious backyard. This home is a true gem in Lakeview.\n",
      "\n",
      "----\n",
      "\n",
      "Provide the answer for the question: A backyard for gardening, a two-car garage, and a modern, energy-efficient heating system.\n",
      "\n",
      "Response: The first option, the eco-friendly oasis in Green Oaks, would be the best choice as it offers a spacious backyard with a vegetable garden, energy-efficient features such as solar panels, and a well-insulated structure.\n",
      "Sources: ['0', '12', '1', '8', '2']\n"
     ]
    }
   ],
   "source": [
    "get_top_listings(preferences[2], PROMPT_TEMPLATE)"
   ]
  },
  {
   "cell_type": "markdown",
   "id": "b77a3ddf",
   "metadata": {},
   "source": [
    "# Step 6: Personalizing Listing Descriptions\n",
    "LLM Augmentation: For each retrieved listing, use the LLM to augment the description, tailoring it to resonate with the buyer’s specific preferences. This involves subtly emphasizing aspects of the property that align with what the buyer is looking for.\n",
    "\n",
    "Maintaining Factual Integrity: Ensure that the augmentation process enhances the appeal of the listing without altering factual information."
   ]
  },
  {
   "cell_type": "code",
   "execution_count": 22,
   "id": "647de40d",
   "metadata": {},
   "outputs": [],
   "source": [
    "PERSONALIZED_PROMPT = \\\n",
    "\"\"\"\n",
    "Context:\n",
    "\n",
    "{context}\n",
    "\n",
    "------\n",
    "Provide a response which will not only answer for the buyer's question but also helps buyer’s specific preferences. This involves subtly emphasizing aspects of the property that align with what the buyer is looking for.\n",
    "\n",
    "Question: {question}\n",
    "\"\"\""
   ]
  },
  {
   "cell_type": "code",
   "execution_count": 23,
   "id": "de0ab1b5",
   "metadata": {},
   "outputs": [
    {
     "name": "stdout",
     "output_type": "stream",
     "text": [
      "Generated Prompt:\n",
      "\n",
      "Context:\n",
      "\n",
      "Welcome to this eco-friendly oasis nestled in the heart of Green Oaks. This charming 3-bedroom, 2-bathroom home boasts energy-efficient features such as solar panels and a well-insulated structure. Natural light floods the living spaces, highlighting the beautiful hardwood floors and eco-conscious finishes. The open-concept kitchen and dining area lead to a spacious backyard with a vegetable garden, perfect for the eco-conscious family. Embrace sustainable living without compromising on style in this Green Oaks gem.\n",
      "\n",
      "---\n",
      "\n",
      "Live in harmony with nature in this eco-friendly home in the serene Parkside neighborhood. This 4-bedroom, 3-bathroom home features energy-efficient features and sustainable materials. The open-concept living area is flooded with natural light and offers views of the landscaped garden. The gourmet kitchen is equipped with modern appliances and a large island for entertaining. Step outside to the outdoor deck to enjoy the peaceful surroundings or host a barbecue in the backyard. This home is a true sanctuary in Parkside.\n",
      "\n",
      "---\n",
      "\n",
      "Located in the desirable neighborhood of Sunnyvale, this 4-bedroom, 3-bathroom home offers spacious living areas and a beautifully landscaped backyard. The updated kitchen features stainless steel appliances and granite countertops, perfect for entertaining guests. Enjoy the California sunshine in the private backyard oasis with a sparkling pool and outdoor kitchen. This home is perfect for families looking for a blend of comfort and luxury.\n",
      "\n",
      "---\n",
      "\n",
      "Step back in time in this historic 3-bedroom, 2-bathroom home in the charming Historic District. The classic architecture and period details create a sense of nostalgia and charm. The updated kitchen features modern appliances and a breakfast nook overlooking the landscaped backyard. Relax on the front porch swing or host a garden party in the spacious backyard. This home is a true gem in the Historic District.\n",
      "\n",
      "---\n",
      "\n",
      "Welcome to this charming bungalow in the heart of Lakeview. This 2-bedroom, 1-bathroom home features a cozy living room with a fireplace, perfect for relaxing on chilly evenings. The updated kitchen boasts stainless steel appliances and a breakfast nook overlooking the landscaped backyard. Enjoy the peaceful neighborhood from the front porch swing or host a barbecue in the spacious backyard. This home is a true gem in Lakeview.\n",
      "\n",
      "------\n",
      "Provide a response which will not only answer for the buyer's question but also helps buyer’s specific preferences. This involves subtly emphasizing aspects of the property that align with what the buyer is looking for.\n",
      "\n",
      "Question: A backyard for gardening, a two-car garage, and a modern, energy-efficient heating system.\n",
      "\n",
      "Response: I have the perfect home for you! Located in the eco-friendly oasis of Green Oaks, this charming 3-bedroom, 2-bathroom home not only boasts a spacious backyard with a vegetable garden but also features a two-car garage for your convenience. In addition, this home is equipped with energy-efficient features such as solar panels and a well-insulated structure. Embrace sustainable living without compromising on style in this Green Oaks gem that checks off all your boxes!\n",
      "Sources: ['0', '12', '1', '8', '2']\n"
     ]
    }
   ],
   "source": [
    "get_top_listings(preferences[2], PERSONALIZED_PROMPT)"
   ]
  },
  {
   "cell_type": "markdown",
   "id": "067dcbad",
   "metadata": {},
   "source": [
    "# Step 7: Deliverables and Testing"
   ]
  },
  {
   "cell_type": "code",
   "execution_count": 24,
   "id": "8ea3ef7b",
   "metadata": {},
   "outputs": [],
   "source": [
    "def chat(query, PROMPT_TEMPLATE) -> list[int]:\n",
    "    embedding_function = OpenAIEmbeddings()\n",
    "    db = Chroma(persist_directory=CHROMA_PATH, embedding_function=embedding_function)\n",
    "\n",
    "    results = db.similarity_search_with_relevance_scores(query, k=5)\n",
    "    if len(results) == 0 or results[0][1] < 0.7:\n",
    "        print(f\"Unable to find matching results.\")\n",
    "    else:\n",
    "        context_text = \"\\n\\n---\\n\\n\".join([doc.page_content for doc, _score in results])\n",
    "        prompt_template = PromptTemplate.from_template(PROMPT_TEMPLATE)\n",
    "        prompt = prompt_template.format(context=context_text, question=query)\n",
    "        \n",
    "        model = ChatOpenAI()\n",
    "        response_text = model.predict(prompt)\n",
    "        print(f\"\\n\\n*Response*: {response_text}\\n---------\\n\")"
   ]
  },
  {
   "cell_type": "code",
   "execution_count": 25,
   "id": "8b7aac13",
   "metadata": {},
   "outputs": [
    {
     "name": "stdout",
     "output_type": "stream",
     "text": [
      "I am a personalized real estate chat agent. Please enter your query, or type 'exit' to end the chat.\n",
      "\n",
      "*User Query*: I'm looking for a quiet neighborhood with good schools and parks nearby for my kids.\n",
      "\n",
      "\n",
      "*Response*: Based on your preferences, I would highly recommend the eco-friendly oasis in Green Oaks. This home not only offers a peaceful and quiet neighborhood but also features energy-efficient features and a spacious backyard with a vegetable garden, perfect for your eco-conscious family. Additionally, with its close proximity to parks and good schools, this charming home in Green Oaks would be an ideal fit for you and your kids.\n",
      "---------\n",
      "\n",
      "*User Query*: I want an eco-friendly home with solar panels and a vegetable garden.\n",
      "\n",
      "\n",
      "*Response*: Response: \n",
      "\n",
      "I am thrilled to present to you this stunning eco-friendly oasis in Green Oaks that perfectly aligns with your preferences. This charming 3-bedroom, 2-bathroom home boasts energy-efficient features such as solar panels and a well-insulated structure. Additionally, the spacious backyard comes complete with a vegetable garden, providing you with the opportunity to embrace sustainable living without compromising on style. This Green Oaks gem is truly a perfect match for someone like you who values eco-conscious living.\n",
      "---------\n",
      "\n",
      "*User Query*: I'm interested in a modern home close to restaurants, theaters, and public transportation.\n",
      "\n",
      "\n",
      "*Response*: Response: \n",
      "\n",
      "I have the perfect property for you! This modern condo in the heart of Downtown offers luxury living with easy access to top restaurants, shopping, and entertainment. The floor-to-ceiling windows provide stunning city views, and the gourmet kitchen is equipped with high-end appliances. You'll love relaxing in the spa-like master suite with a soaking tub and walk-in closet. Plus, living in the vibrant Downtown area means you'll be just steps away from theaters, restaurants, and public transportation. This condo truly combines modern living with convenience in a bustling urban setting.\n",
      "---------\n",
      "\n",
      "*User Query*: exit\n",
      "Thank you!\n"
     ]
    }
   ],
   "source": [
    "print(\"I am a personalized real estate chat agent. Please enter your query, or type 'exit' to end the chat.\\n\")\n",
    "while True:\n",
    "    user_input = input(\"*User Query*: \")\n",
    "    if user_input.lower() == \"exit\": \n",
    "        print(\"Thank you!\")\n",
    "        break\n",
    "    chat(user_input, PERSONALIZED_PROMPT)"
   ]
  }
 ],
 "metadata": {
  "kernelspec": {
   "display_name": "Python 3 (ipykernel)",
   "language": "python",
   "name": "python3"
  },
  "language_info": {
   "codemirror_mode": {
    "name": "ipython",
    "version": 3
   },
   "file_extension": ".py",
   "mimetype": "text/x-python",
   "name": "python",
   "nbconvert_exporter": "python",
   "pygments_lexer": "ipython3",
   "version": "3.10.11"
  }
 },
 "nbformat": 4,
 "nbformat_minor": 5
}
